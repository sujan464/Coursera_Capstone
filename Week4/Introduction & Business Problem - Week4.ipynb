{
 "cells": [
  {
   "cell_type": "markdown",
   "metadata": {},
   "source": [
    "# Clustering of Neighbourhoods - Hyderabad, India"
   ]
  },
  {
   "cell_type": "markdown",
   "metadata": {},
   "source": [
    "## Introduction"
   ]
  },
  {
   "cell_type": "markdown",
   "metadata": {},
   "source": [
    "<p style='text-align: justify;'> Hyderabad is one of the three popular cities in southern part fo India. This is the city where global conglomerates such as Microsoft, Google, IBM, Facebook, Amazon, etc had set up their offices. There are more than 1000 IT firms established in this city. Apart from being an IT powerhouse, Hyderabad is also a manufacturing city with establishments such as BHEL, DRDO, NMDC, HAL, etc. Haivng such a huge number of firms and industries located in and around Hyderabad, this city attracts many people from various parts of India. The population of this city is ever-growing at a pace of around 2.9 % annually. Currently, the cities population is close to 10 millions and is still increasing. Owing to this increasing population in the city, there is a large scope to set up businesses like, shopping malls, hotels, restaurants, coffee shops, departmental stores, etc.</p>"
   ]
  },
  {
   "cell_type": "markdown",
   "metadata": {},
   "source": [
    "## Business Problem"
   ]
  },
  {
   "cell_type": "markdown",
   "metadata": {},
   "source": [
    "<p style='text-align: justify;'>The objective of this project is to analyze the neighbourhoods in the Hyderabad city and segregate them into different clusters based on the popular venues at each neighbourhood, by using <b>data science methodology</b> and <b>machine learning techniques</b> like <b>clustering</b>. This project aims to help small business owners to select a suitable cluster to set up their businesses like hotels, restaurants, shopping malls, etc. <br/>\n",
    "The <b>target audience</b> of this project are investors & developers who wish to construct shopping malls, hotels, etc., and small business owners who want to set up their businesses like restaurants, coffee shops, departmental stores, etc. It would help them to find suitable location to set up their business based on its category</p>"
   ]
  },
  {
   "cell_type": "markdown",
   "metadata": {},
   "source": [
    "## Data Requirement"
   ]
  },
  {
   "cell_type": "markdown",
   "metadata": {},
   "source": [
    "Hyderabad city has many neighbourhoods. In order to solve the business problem of this project, the following data is required.\n",
    "1. <b>List of neighbourhoods in Hyderabad:</b> The list of neighbourhoods in Hyderabad can be obtained from Wikipedia's page [https://en.wikipedia.org/w/index.php?title=Category:Neighbourhoods_in_Hyderabad,_India&pageuntil=Sikh+Village#mw-pages] \n",
    "2. <b> Latitudes \\& Longitudes of Neighbourhoods:</b> The latitude and longitude coordinates of each neighbourhood can be obtained by using Python Geocoder package\n",
    "3. <b>List of Venues:</b> The list of venues in each neighbourhood along with venue details like its latitude, longitude and category, by using FourSquare API. [https://developer.foursquare.com/docs/places-api/]"
   ]
  },
  {
   "cell_type": "code",
   "execution_count": null,
   "metadata": {},
   "outputs": [],
   "source": []
  }
 ],
 "metadata": {
  "kernelspec": {
   "display_name": "Python 3",
   "language": "python",
   "name": "python3"
  },
  "language_info": {
   "codemirror_mode": {
    "name": "ipython",
    "version": 3
   },
   "file_extension": ".py",
   "mimetype": "text/x-python",
   "name": "python",
   "nbconvert_exporter": "python",
   "pygments_lexer": "ipython3",
   "version": "3.7.6"
  }
 },
 "nbformat": 4,
 "nbformat_minor": 4
}
