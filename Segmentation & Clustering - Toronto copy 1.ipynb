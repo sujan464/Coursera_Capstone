{
    "cells": [
        {
            "metadata": {
                "collapsed": true
            },
            "cell_type": "markdown",
            "source": "# Segmentation and Clustering Neighborhoods in Toronto,Canada"
        },
        {
            "metadata": {},
            "cell_type": "markdown",
            "source": "### Importing relevant libraries"
        },
        {
            "metadata": {},
            "cell_type": "code",
            "source": "#importing pandas and numpy libraries\nimport pandas as pd\nimport numpy as np",
            "execution_count": 1,
            "outputs": []
        },
        {
            "metadata": {},
            "cell_type": "markdown",
            "source": "### Assigning the Wikipedia link to the object url"
        },
        {
            "metadata": {},
            "cell_type": "code",
            "source": "#assigning Wikipedia link to url\nurl='https://en.wikipedia.org/wiki/List_of_postal_codes_of_Canada:_M'",
            "execution_count": 2,
            "outputs": []
        },
        {
            "metadata": {},
            "cell_type": "markdown",
            "source": "### Removing the row from the dataframe which have Borough names as 'Not Assigned"
        },
        {
            "metadata": {},
            "cell_type": "code",
            "source": "#dropping the rows having the Brough as 'Not assigned'\nneigh_df=pd.read_html(url)[0]\nneigh_df=neigh_df[neigh_df['Borough']!='Not assigned'].reset_index(drop=True)\nneigh_df.head()",
            "execution_count": 3,
            "outputs": [
                {
                    "output_type": "execute_result",
                    "execution_count": 3,
                    "data": {
                        "text/plain": "  Postal Code           Borough                                Neighbourhood\n0         M3A        North York                                    Parkwoods\n1         M4A        North York                             Victoria Village\n2         M5A  Downtown Toronto                    Regent Park, Harbourfront\n3         M6A        North York             Lawrence Manor, Lawrence Heights\n4         M7A  Downtown Toronto  Queen's Park, Ontario Provincial Government",
                        "text/html": "<div>\n<style scoped>\n    .dataframe tbody tr th:only-of-type {\n        vertical-align: middle;\n    }\n\n    .dataframe tbody tr th {\n        vertical-align: top;\n    }\n\n    .dataframe thead th {\n        text-align: right;\n    }\n</style>\n<table border=\"1\" class=\"dataframe\">\n  <thead>\n    <tr style=\"text-align: right;\">\n      <th></th>\n      <th>Postal Code</th>\n      <th>Borough</th>\n      <th>Neighbourhood</th>\n    </tr>\n  </thead>\n  <tbody>\n    <tr>\n      <th>0</th>\n      <td>M3A</td>\n      <td>North York</td>\n      <td>Parkwoods</td>\n    </tr>\n    <tr>\n      <th>1</th>\n      <td>M4A</td>\n      <td>North York</td>\n      <td>Victoria Village</td>\n    </tr>\n    <tr>\n      <th>2</th>\n      <td>M5A</td>\n      <td>Downtown Toronto</td>\n      <td>Regent Park, Harbourfront</td>\n    </tr>\n    <tr>\n      <th>3</th>\n      <td>M6A</td>\n      <td>North York</td>\n      <td>Lawrence Manor, Lawrence Heights</td>\n    </tr>\n    <tr>\n      <th>4</th>\n      <td>M7A</td>\n      <td>Downtown Toronto</td>\n      <td>Queen's Park, Ontario Provincial Government</td>\n    </tr>\n  </tbody>\n</table>\n</div>"
                    },
                    "metadata": {}
                }
            ]
        },
        {
            "metadata": {},
            "cell_type": "markdown",
            "source": "### For the rows having the Neighbourhood names as 'Not assigned', replacing it with the Borough name"
        },
        {
            "metadata": {},
            "cell_type": "code",
            "source": "#replace with Borugh name for rows with Neighbourhood as 'Not assigned'\nneigh_df['Neighbourhood'].replace('Not assigned',neigh_df['Borough'],inplace=True)",
            "execution_count": 4,
            "outputs": []
        },
        {
            "metadata": {},
            "cell_type": "markdown",
            "source": "### Printing the number of rows in the data frame"
        },
        {
            "metadata": {},
            "cell_type": "code",
            "source": "print('Number of rows in the data frame :',neigh_df.shape[0])",
            "execution_count": 5,
            "outputs": [
                {
                    "output_type": "stream",
                    "text": "Number of rows in the data frame : 103\n",
                    "name": "stdout"
                }
            ]
        },
        {
            "metadata": {},
            "cell_type": "markdown",
            "source": "### Importing geocoder library"
        },
        {
            "metadata": {},
            "cell_type": "code",
            "source": "from geopy.geocoders import Nominatim",
            "execution_count": 6,
            "outputs": []
        },
        {
            "metadata": {},
            "cell_type": "markdown",
            "source": "### Creating empty columns for latitude and longitude"
        },
        {
            "metadata": {
                "scrolled": true
            },
            "cell_type": "code",
            "source": "neigh_df['latitude']=''\nneigh_df['longitude']=''\nneigh_df.head()",
            "execution_count": 7,
            "outputs": [
                {
                    "output_type": "execute_result",
                    "execution_count": 7,
                    "data": {
                        "text/plain": "  Postal Code           Borough                                Neighbourhood  \\\n0         M3A        North York                                    Parkwoods   \n1         M4A        North York                             Victoria Village   \n2         M5A  Downtown Toronto                    Regent Park, Harbourfront   \n3         M6A        North York             Lawrence Manor, Lawrence Heights   \n4         M7A  Downtown Toronto  Queen's Park, Ontario Provincial Government   \n\n  latitude longitude  \n0                     \n1                     \n2                     \n3                     \n4                     ",
                        "text/html": "<div>\n<style scoped>\n    .dataframe tbody tr th:only-of-type {\n        vertical-align: middle;\n    }\n\n    .dataframe tbody tr th {\n        vertical-align: top;\n    }\n\n    .dataframe thead th {\n        text-align: right;\n    }\n</style>\n<table border=\"1\" class=\"dataframe\">\n  <thead>\n    <tr style=\"text-align: right;\">\n      <th></th>\n      <th>Postal Code</th>\n      <th>Borough</th>\n      <th>Neighbourhood</th>\n      <th>latitude</th>\n      <th>longitude</th>\n    </tr>\n  </thead>\n  <tbody>\n    <tr>\n      <th>0</th>\n      <td>M3A</td>\n      <td>North York</td>\n      <td>Parkwoods</td>\n      <td></td>\n      <td></td>\n    </tr>\n    <tr>\n      <th>1</th>\n      <td>M4A</td>\n      <td>North York</td>\n      <td>Victoria Village</td>\n      <td></td>\n      <td></td>\n    </tr>\n    <tr>\n      <th>2</th>\n      <td>M5A</td>\n      <td>Downtown Toronto</td>\n      <td>Regent Park, Harbourfront</td>\n      <td></td>\n      <td></td>\n    </tr>\n    <tr>\n      <th>3</th>\n      <td>M6A</td>\n      <td>North York</td>\n      <td>Lawrence Manor, Lawrence Heights</td>\n      <td></td>\n      <td></td>\n    </tr>\n    <tr>\n      <th>4</th>\n      <td>M7A</td>\n      <td>Downtown Toronto</td>\n      <td>Queen's Park, Ontario Provincial Government</td>\n      <td></td>\n      <td></td>\n    </tr>\n  </tbody>\n</table>\n</div>"
                    },
                    "metadata": {}
                }
            ]
        },
        {
            "metadata": {},
            "cell_type": "markdown",
            "source": "### Importing the latitude and longitude data from 'Geospatial_Coordinates.csv'"
        },
        {
            "metadata": {},
            "cell_type": "code",
            "source": "import types\nimport pandas as pd\nfrom botocore.client import Config\nimport ibm_boto3\n\ndef __iter__(self): return 0\n\n# @hidden_cell\n# The following code accesses a file in your IBM Cloud Object Storage. It includes your credentials.\n# You might want to remove those credentials before you share the notebook.\nclient_c00ab14592894416aafc13bec38bb5ea = ibm_boto3.client(service_name='s3',\n    ibm_api_key_id='a7BSc8Kn7Dr10BCKrTZGSS7kti38vJbCFjvwzTgzDNvw',\n    ibm_auth_endpoint=\"https://iam.cloud.ibm.com/oidc/token\",\n    config=Config(signature_version='oauth'),\n    endpoint_url='https://s3-api.us-geo.objectstorage.service.networklayer.com')\n\nbody = client_c00ab14592894416aafc13bec38bb5ea.get_object(Bucket='applieddatasciencecapstoneproject-donotdelete-pr-r6banbmyort3kf',Key='Geospatial_Coordinates.csv')['Body']\n# add missing __iter__ method, so pandas accepts body as file-like object\nif not hasattr(body, \"__iter__\"): body.__iter__ = types.MethodType( __iter__, body )\n\nlat_lng_df = pd.read_csv(body)\nlat_lng_df.head()\n",
            "execution_count": 13,
            "outputs": [
                {
                    "output_type": "execute_result",
                    "execution_count": 13,
                    "data": {
                        "text/plain": "  Postal Code   Latitude  Longitude\n0         M1B  43.806686 -79.194353\n1         M1C  43.784535 -79.160497\n2         M1E  43.763573 -79.188711\n3         M1G  43.770992 -79.216917\n4         M1H  43.773136 -79.239476",
                        "text/html": "<div>\n<style scoped>\n    .dataframe tbody tr th:only-of-type {\n        vertical-align: middle;\n    }\n\n    .dataframe tbody tr th {\n        vertical-align: top;\n    }\n\n    .dataframe thead th {\n        text-align: right;\n    }\n</style>\n<table border=\"1\" class=\"dataframe\">\n  <thead>\n    <tr style=\"text-align: right;\">\n      <th></th>\n      <th>Postal Code</th>\n      <th>Latitude</th>\n      <th>Longitude</th>\n    </tr>\n  </thead>\n  <tbody>\n    <tr>\n      <th>0</th>\n      <td>M1B</td>\n      <td>43.806686</td>\n      <td>-79.194353</td>\n    </tr>\n    <tr>\n      <th>1</th>\n      <td>M1C</td>\n      <td>43.784535</td>\n      <td>-79.160497</td>\n    </tr>\n    <tr>\n      <th>2</th>\n      <td>M1E</td>\n      <td>43.763573</td>\n      <td>-79.188711</td>\n    </tr>\n    <tr>\n      <th>3</th>\n      <td>M1G</td>\n      <td>43.770992</td>\n      <td>-79.216917</td>\n    </tr>\n    <tr>\n      <th>4</th>\n      <td>M1H</td>\n      <td>43.773136</td>\n      <td>-79.239476</td>\n    </tr>\n  </tbody>\n</table>\n</div>"
                    },
                    "metadata": {}
                }
            ]
        },
        {
            "metadata": {},
            "cell_type": "code",
            "source": "for i in neigh_df.index:\n    neigh_df.at[i,'latitude']=lat_lng_df[lat_lng_df['Postal Code']==neigh_df.at[i,'Postal Code']]['Latitude'].values[0]\n    neigh_df.at[i,'longitude']=lat_lng_df[lat_lng_df['Postal Code']==neigh_df.at[i,'Postal Code']]['Longitude'].values[0]\nneigh_df.head(50)",
            "execution_count": 47,
            "outputs": [
                {
                    "output_type": "execute_result",
                    "execution_count": 47,
                    "data": {
                        "text/plain": "   Postal Code           Borough  \\\n0          M3A        North York   \n1          M4A        North York   \n2          M5A  Downtown Toronto   \n3          M6A        North York   \n4          M7A  Downtown Toronto   \n5          M9A         Etobicoke   \n6          M1B       Scarborough   \n7          M3B        North York   \n8          M4B         East York   \n9          M5B  Downtown Toronto   \n10         M6B        North York   \n11         M9B         Etobicoke   \n12         M1C       Scarborough   \n13         M3C        North York   \n14         M4C         East York   \n15         M5C  Downtown Toronto   \n16         M6C              York   \n17         M9C         Etobicoke   \n18         M1E       Scarborough   \n19         M4E      East Toronto   \n20         M5E  Downtown Toronto   \n21         M6E              York   \n22         M1G       Scarborough   \n23         M4G         East York   \n24         M5G  Downtown Toronto   \n25         M6G  Downtown Toronto   \n26         M1H       Scarborough   \n27         M2H        North York   \n28         M3H        North York   \n29         M4H         East York   \n30         M5H  Downtown Toronto   \n31         M6H      West Toronto   \n32         M1J       Scarborough   \n33         M2J        North York   \n34         M3J        North York   \n35         M4J         East York   \n36         M5J  Downtown Toronto   \n37         M6J      West Toronto   \n38         M1K       Scarborough   \n39         M2K        North York   \n40         M3K        North York   \n41         M4K      East Toronto   \n42         M5K  Downtown Toronto   \n43         M6K      West Toronto   \n44         M1L       Scarborough   \n45         M2L        North York   \n46         M3L        North York   \n47         M4L      East Toronto   \n48         M5L  Downtown Toronto   \n49         M6L        North York   \n\n                                        Neighbourhood latitude longitude  \n0                                           Parkwoods  43.7533  -79.3297  \n1                                    Victoria Village  43.7259  -79.3156  \n2                           Regent Park, Harbourfront  43.6543  -79.3606  \n3                    Lawrence Manor, Lawrence Heights  43.7185  -79.4648  \n4         Queen's Park, Ontario Provincial Government  43.6623  -79.3895  \n5             Islington Avenue, Humber Valley Village  43.6679  -79.5322  \n6                                      Malvern, Rouge  43.8067  -79.1944  \n7                                           Don Mills  43.7459  -79.3522  \n8                     Parkview Hill, Woodbine Gardens  43.7064  -79.3099  \n9                            Garden District, Ryerson  43.6572  -79.3789  \n10                                          Glencairn  43.7096  -79.4451  \n11  West Deane Park, Princess Gardens, Martin Grov...  43.6509  -79.5547  \n12             Rouge Hill, Port Union, Highland Creek  43.7845  -79.1605  \n13                                          Don Mills  43.7259  -79.3409  \n14                                   Woodbine Heights  43.6953  -79.3184  \n15                                     St. James Town  43.6515  -79.3754  \n16                                 Humewood-Cedarvale  43.6938  -79.4282  \n17  Eringate, Bloordale Gardens, Old Burnhamthorpe...  43.6435  -79.5772  \n18                  Guildwood, Morningside, West Hill  43.7636  -79.1887  \n19                                        The Beaches  43.6764   -79.293  \n20                                        Berczy Park  43.6448  -79.3733  \n21                                Caledonia-Fairbanks   43.689  -79.4535  \n22                                             Woburn   43.771  -79.2169  \n23                                            Leaside  43.7091  -79.3635  \n24                                 Central Bay Street   43.658  -79.3874  \n25                                           Christie  43.6695  -79.4226  \n26                                          Cedarbrae  43.7731  -79.2395  \n27                                  Hillcrest Village  43.8038  -79.3635  \n28    Bathurst Manor, Wilson Heights, Downsview North  43.7543  -79.4423  \n29                                   Thorncliffe Park  43.7054  -79.3494  \n30                           Richmond, Adelaide, King  43.6506  -79.3846  \n31                       Dufferin, Dovercourt Village   43.669  -79.4423  \n32                                Scarborough Village  43.7447  -79.2395  \n33                       Fairview, Henry Farm, Oriole  43.7785  -79.3466  \n34                    Northwood Park, York University   43.768  -79.4873  \n35      East Toronto, Broadview North (Old East York)  43.6853  -79.3381  \n36  Harbourfront East, Union Station, Toronto Islands  43.6408  -79.3818  \n37                           Little Portugal, Trinity  43.6479  -79.4197  \n38        Kennedy Park, Ionview, East Birchmount Park  43.7279   -79.262  \n39                                    Bayview Village  43.7869   -79.386  \n40                                          Downsview  43.7375  -79.4648  \n41                       The Danforth West, Riverdale  43.6796  -79.3522  \n42           Toronto Dominion Centre, Design Exchange  43.6472  -79.3816  \n43       Brockton, Parkdale Village, Exhibition Place  43.6368  -79.4282  \n44                    Golden Mile, Clairlea, Oakridge  43.7111  -79.2846  \n45                           York Mills, Silver Hills  43.7575  -79.3747  \n46                                          Downsview   43.739  -79.5069  \n47                     India Bazaar, The Beaches West   43.669  -79.3156  \n48                     Commerce Court, Victoria Hotel  43.6482  -79.3798  \n49           North Park, Maple Leaf Park, Upwood Park  43.7138  -79.4901  ",
                        "text/html": "<div>\n<style scoped>\n    .dataframe tbody tr th:only-of-type {\n        vertical-align: middle;\n    }\n\n    .dataframe tbody tr th {\n        vertical-align: top;\n    }\n\n    .dataframe thead th {\n        text-align: right;\n    }\n</style>\n<table border=\"1\" class=\"dataframe\">\n  <thead>\n    <tr style=\"text-align: right;\">\n      <th></th>\n      <th>Postal Code</th>\n      <th>Borough</th>\n      <th>Neighbourhood</th>\n      <th>latitude</th>\n      <th>longitude</th>\n    </tr>\n  </thead>\n  <tbody>\n    <tr>\n      <th>0</th>\n      <td>M3A</td>\n      <td>North York</td>\n      <td>Parkwoods</td>\n      <td>43.7533</td>\n      <td>-79.3297</td>\n    </tr>\n    <tr>\n      <th>1</th>\n      <td>M4A</td>\n      <td>North York</td>\n      <td>Victoria Village</td>\n      <td>43.7259</td>\n      <td>-79.3156</td>\n    </tr>\n    <tr>\n      <th>2</th>\n      <td>M5A</td>\n      <td>Downtown Toronto</td>\n      <td>Regent Park, Harbourfront</td>\n      <td>43.6543</td>\n      <td>-79.3606</td>\n    </tr>\n    <tr>\n      <th>3</th>\n      <td>M6A</td>\n      <td>North York</td>\n      <td>Lawrence Manor, Lawrence Heights</td>\n      <td>43.7185</td>\n      <td>-79.4648</td>\n    </tr>\n    <tr>\n      <th>4</th>\n      <td>M7A</td>\n      <td>Downtown Toronto</td>\n      <td>Queen's Park, Ontario Provincial Government</td>\n      <td>43.6623</td>\n      <td>-79.3895</td>\n    </tr>\n    <tr>\n      <th>5</th>\n      <td>M9A</td>\n      <td>Etobicoke</td>\n      <td>Islington Avenue, Humber Valley Village</td>\n      <td>43.6679</td>\n      <td>-79.5322</td>\n    </tr>\n    <tr>\n      <th>6</th>\n      <td>M1B</td>\n      <td>Scarborough</td>\n      <td>Malvern, Rouge</td>\n      <td>43.8067</td>\n      <td>-79.1944</td>\n    </tr>\n    <tr>\n      <th>7</th>\n      <td>M3B</td>\n      <td>North York</td>\n      <td>Don Mills</td>\n      <td>43.7459</td>\n      <td>-79.3522</td>\n    </tr>\n    <tr>\n      <th>8</th>\n      <td>M4B</td>\n      <td>East York</td>\n      <td>Parkview Hill, Woodbine Gardens</td>\n      <td>43.7064</td>\n      <td>-79.3099</td>\n    </tr>\n    <tr>\n      <th>9</th>\n      <td>M5B</td>\n      <td>Downtown Toronto</td>\n      <td>Garden District, Ryerson</td>\n      <td>43.6572</td>\n      <td>-79.3789</td>\n    </tr>\n    <tr>\n      <th>10</th>\n      <td>M6B</td>\n      <td>North York</td>\n      <td>Glencairn</td>\n      <td>43.7096</td>\n      <td>-79.4451</td>\n    </tr>\n    <tr>\n      <th>11</th>\n      <td>M9B</td>\n      <td>Etobicoke</td>\n      <td>West Deane Park, Princess Gardens, Martin Grov...</td>\n      <td>43.6509</td>\n      <td>-79.5547</td>\n    </tr>\n    <tr>\n      <th>12</th>\n      <td>M1C</td>\n      <td>Scarborough</td>\n      <td>Rouge Hill, Port Union, Highland Creek</td>\n      <td>43.7845</td>\n      <td>-79.1605</td>\n    </tr>\n    <tr>\n      <th>13</th>\n      <td>M3C</td>\n      <td>North York</td>\n      <td>Don Mills</td>\n      <td>43.7259</td>\n      <td>-79.3409</td>\n    </tr>\n    <tr>\n      <th>14</th>\n      <td>M4C</td>\n      <td>East York</td>\n      <td>Woodbine Heights</td>\n      <td>43.6953</td>\n      <td>-79.3184</td>\n    </tr>\n    <tr>\n      <th>15</th>\n      <td>M5C</td>\n      <td>Downtown Toronto</td>\n      <td>St. James Town</td>\n      <td>43.6515</td>\n      <td>-79.3754</td>\n    </tr>\n    <tr>\n      <th>16</th>\n      <td>M6C</td>\n      <td>York</td>\n      <td>Humewood-Cedarvale</td>\n      <td>43.6938</td>\n      <td>-79.4282</td>\n    </tr>\n    <tr>\n      <th>17</th>\n      <td>M9C</td>\n      <td>Etobicoke</td>\n      <td>Eringate, Bloordale Gardens, Old Burnhamthorpe...</td>\n      <td>43.6435</td>\n      <td>-79.5772</td>\n    </tr>\n    <tr>\n      <th>18</th>\n      <td>M1E</td>\n      <td>Scarborough</td>\n      <td>Guildwood, Morningside, West Hill</td>\n      <td>43.7636</td>\n      <td>-79.1887</td>\n    </tr>\n    <tr>\n      <th>19</th>\n      <td>M4E</td>\n      <td>East Toronto</td>\n      <td>The Beaches</td>\n      <td>43.6764</td>\n      <td>-79.293</td>\n    </tr>\n    <tr>\n      <th>20</th>\n      <td>M5E</td>\n      <td>Downtown Toronto</td>\n      <td>Berczy Park</td>\n      <td>43.6448</td>\n      <td>-79.3733</td>\n    </tr>\n    <tr>\n      <th>21</th>\n      <td>M6E</td>\n      <td>York</td>\n      <td>Caledonia-Fairbanks</td>\n      <td>43.689</td>\n      <td>-79.4535</td>\n    </tr>\n    <tr>\n      <th>22</th>\n      <td>M1G</td>\n      <td>Scarborough</td>\n      <td>Woburn</td>\n      <td>43.771</td>\n      <td>-79.2169</td>\n    </tr>\n    <tr>\n      <th>23</th>\n      <td>M4G</td>\n      <td>East York</td>\n      <td>Leaside</td>\n      <td>43.7091</td>\n      <td>-79.3635</td>\n    </tr>\n    <tr>\n      <th>24</th>\n      <td>M5G</td>\n      <td>Downtown Toronto</td>\n      <td>Central Bay Street</td>\n      <td>43.658</td>\n      <td>-79.3874</td>\n    </tr>\n    <tr>\n      <th>25</th>\n      <td>M6G</td>\n      <td>Downtown Toronto</td>\n      <td>Christie</td>\n      <td>43.6695</td>\n      <td>-79.4226</td>\n    </tr>\n    <tr>\n      <th>26</th>\n      <td>M1H</td>\n      <td>Scarborough</td>\n      <td>Cedarbrae</td>\n      <td>43.7731</td>\n      <td>-79.2395</td>\n    </tr>\n    <tr>\n      <th>27</th>\n      <td>M2H</td>\n      <td>North York</td>\n      <td>Hillcrest Village</td>\n      <td>43.8038</td>\n      <td>-79.3635</td>\n    </tr>\n    <tr>\n      <th>28</th>\n      <td>M3H</td>\n      <td>North York</td>\n      <td>Bathurst Manor, Wilson Heights, Downsview North</td>\n      <td>43.7543</td>\n      <td>-79.4423</td>\n    </tr>\n    <tr>\n      <th>29</th>\n      <td>M4H</td>\n      <td>East York</td>\n      <td>Thorncliffe Park</td>\n      <td>43.7054</td>\n      <td>-79.3494</td>\n    </tr>\n    <tr>\n      <th>30</th>\n      <td>M5H</td>\n      <td>Downtown Toronto</td>\n      <td>Richmond, Adelaide, King</td>\n      <td>43.6506</td>\n      <td>-79.3846</td>\n    </tr>\n    <tr>\n      <th>31</th>\n      <td>M6H</td>\n      <td>West Toronto</td>\n      <td>Dufferin, Dovercourt Village</td>\n      <td>43.669</td>\n      <td>-79.4423</td>\n    </tr>\n    <tr>\n      <th>32</th>\n      <td>M1J</td>\n      <td>Scarborough</td>\n      <td>Scarborough Village</td>\n      <td>43.7447</td>\n      <td>-79.2395</td>\n    </tr>\n    <tr>\n      <th>33</th>\n      <td>M2J</td>\n      <td>North York</td>\n      <td>Fairview, Henry Farm, Oriole</td>\n      <td>43.7785</td>\n      <td>-79.3466</td>\n    </tr>\n    <tr>\n      <th>34</th>\n      <td>M3J</td>\n      <td>North York</td>\n      <td>Northwood Park, York University</td>\n      <td>43.768</td>\n      <td>-79.4873</td>\n    </tr>\n    <tr>\n      <th>35</th>\n      <td>M4J</td>\n      <td>East York</td>\n      <td>East Toronto, Broadview North (Old East York)</td>\n      <td>43.6853</td>\n      <td>-79.3381</td>\n    </tr>\n    <tr>\n      <th>36</th>\n      <td>M5J</td>\n      <td>Downtown Toronto</td>\n      <td>Harbourfront East, Union Station, Toronto Islands</td>\n      <td>43.6408</td>\n      <td>-79.3818</td>\n    </tr>\n    <tr>\n      <th>37</th>\n      <td>M6J</td>\n      <td>West Toronto</td>\n      <td>Little Portugal, Trinity</td>\n      <td>43.6479</td>\n      <td>-79.4197</td>\n    </tr>\n    <tr>\n      <th>38</th>\n      <td>M1K</td>\n      <td>Scarborough</td>\n      <td>Kennedy Park, Ionview, East Birchmount Park</td>\n      <td>43.7279</td>\n      <td>-79.262</td>\n    </tr>\n    <tr>\n      <th>39</th>\n      <td>M2K</td>\n      <td>North York</td>\n      <td>Bayview Village</td>\n      <td>43.7869</td>\n      <td>-79.386</td>\n    </tr>\n    <tr>\n      <th>40</th>\n      <td>M3K</td>\n      <td>North York</td>\n      <td>Downsview</td>\n      <td>43.7375</td>\n      <td>-79.4648</td>\n    </tr>\n    <tr>\n      <th>41</th>\n      <td>M4K</td>\n      <td>East Toronto</td>\n      <td>The Danforth West, Riverdale</td>\n      <td>43.6796</td>\n      <td>-79.3522</td>\n    </tr>\n    <tr>\n      <th>42</th>\n      <td>M5K</td>\n      <td>Downtown Toronto</td>\n      <td>Toronto Dominion Centre, Design Exchange</td>\n      <td>43.6472</td>\n      <td>-79.3816</td>\n    </tr>\n    <tr>\n      <th>43</th>\n      <td>M6K</td>\n      <td>West Toronto</td>\n      <td>Brockton, Parkdale Village, Exhibition Place</td>\n      <td>43.6368</td>\n      <td>-79.4282</td>\n    </tr>\n    <tr>\n      <th>44</th>\n      <td>M1L</td>\n      <td>Scarborough</td>\n      <td>Golden Mile, Clairlea, Oakridge</td>\n      <td>43.7111</td>\n      <td>-79.2846</td>\n    </tr>\n    <tr>\n      <th>45</th>\n      <td>M2L</td>\n      <td>North York</td>\n      <td>York Mills, Silver Hills</td>\n      <td>43.7575</td>\n      <td>-79.3747</td>\n    </tr>\n    <tr>\n      <th>46</th>\n      <td>M3L</td>\n      <td>North York</td>\n      <td>Downsview</td>\n      <td>43.739</td>\n      <td>-79.5069</td>\n    </tr>\n    <tr>\n      <th>47</th>\n      <td>M4L</td>\n      <td>East Toronto</td>\n      <td>India Bazaar, The Beaches West</td>\n      <td>43.669</td>\n      <td>-79.3156</td>\n    </tr>\n    <tr>\n      <th>48</th>\n      <td>M5L</td>\n      <td>Downtown Toronto</td>\n      <td>Commerce Court, Victoria Hotel</td>\n      <td>43.6482</td>\n      <td>-79.3798</td>\n    </tr>\n    <tr>\n      <th>49</th>\n      <td>M6L</td>\n      <td>North York</td>\n      <td>North Park, Maple Leaf Park, Upwood Park</td>\n      <td>43.7138</td>\n      <td>-79.4901</td>\n    </tr>\n  </tbody>\n</table>\n</div>"
                    },
                    "metadata": {}
                }
            ]
        },
        {
            "metadata": {},
            "cell_type": "code",
            "source": "",
            "execution_count": null,
            "outputs": []
        }
    ],
    "metadata": {
        "kernelspec": {
            "name": "python3",
            "display_name": "Python 3.7",
            "language": "python"
        },
        "language_info": {
            "name": "python",
            "version": "3.7.9",
            "mimetype": "text/x-python",
            "codemirror_mode": {
                "name": "ipython",
                "version": 3
            },
            "pygments_lexer": "ipython3",
            "nbconvert_exporter": "python",
            "file_extension": ".py"
        }
    },
    "nbformat": 4,
    "nbformat_minor": 1
}